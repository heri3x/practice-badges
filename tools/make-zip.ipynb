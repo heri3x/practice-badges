{
 "cells": [
  {
   "cell_type": "markdown",
   "id": "6de27f4a-5778-4cd5-bab9-8f50bbb7238a",
   "metadata": {
    "papermill": {
     "duration": 0.001341,
     "end_time": "2022-04-14T06:19:17.855861",
     "exception": false,
     "start_time": "2022-04-14T06:19:17.854520",
     "status": "completed"
    },
    "tags": []
   },
   "source": [
    "# zipファイル作成\n",
    "\n",
    "いくつかのファイルを圧縮して、tmp/test.zip に出力します。"
   ]
  },
  {
   "cell_type": "code",
   "execution_count": 1,
   "id": "3f2493de-89f3-43a0-b834-3fde06d38f3f",
   "metadata": {
    "papermill": {
     "duration": 0.00859,
     "end_time": "2022-04-14T06:19:17.865485",
     "exception": false,
     "start_time": "2022-04-14T06:19:17.856895",
     "status": "completed"
    },
    "tags": []
   },
   "outputs": [],
   "source": [
    "import os\n",
    "import zipfile"
   ]
  },
  {
   "cell_type": "markdown",
   "id": "53ebceaf",
   "metadata": {},
   "source": [
    "## 出力ファイルと入力ファイルの設定"
   ]
  },
  {
   "cell_type": "code",
   "execution_count": 2,
   "id": "e80ebb3e-a278-4da9-bc4d-a9fee23ee78f",
   "metadata": {
    "papermill": {
     "duration": 0.005378,
     "end_time": "2022-04-14T06:19:17.871952",
     "exception": false,
     "start_time": "2022-04-14T06:19:17.866574",
     "status": "completed"
    },
    "tags": []
   },
   "outputs": [],
   "source": [
    "OUTPUT_FILENAME = 'tmp/test.zip'\n",
    "\n",
    "INPUT_BASEPATH = '..'\n",
    "INPUT_FILEPATHS = [\n",
    "    'README.md',\n",
    "    'tools/README.md',\n",
    "    'tools/make-zip.ipynb'\n",
    "]"
   ]
  },
  {
   "cell_type": "markdown",
   "id": "3c8c7d6b",
   "metadata": {},
   "source": [
    "## ZIPファイル作成"
   ]
  },
  {
   "cell_type": "code",
   "execution_count": 3,
   "id": "6eb3a970-512f-4dec-ab27-2293201a14cf",
   "metadata": {
    "papermill": {
     "duration": 0.007442,
     "end_time": "2022-04-14T06:19:17.880365",
     "exception": false,
     "start_time": "2022-04-14T06:19:17.872923",
     "status": "completed"
    },
    "tags": []
   },
   "outputs": [
    {
     "name": "stdout",
     "output_type": "stream",
     "text": [
      "zipファイル作成: \"tmp/test.zip\"\n",
      "  追加: \"README.md\"\n",
      "  追加: \"tools/README.md\"\n",
      "  追加: \"tools/make-zip.ipynb\"\n",
      "zipファイル作成終了\n"
     ]
    }
   ],
   "source": [
    "# ZIPファイル作成\n",
    "print(f'zipファイル作成: \"{OUTPUT_FILENAME}\"')\n",
    "with zipfile.ZipFile(OUTPUT_FILENAME, \"w\") as zf:\n",
    "    for filepath in INPUT_FILEPATHS:\n",
    "        print(f'  追加: \"{filepath}\"')\n",
    "        zf.write(os.path.join(INPUT_BASEPATH, filepath), filepath)\n",
    "    print(f'zipファイル作成終了')"
   ]
  }
 ],
 "metadata": {
  "kernelspec": {
   "display_name": "Python 3 (ipykernel)",
   "language": "python",
   "name": "python3"
  },
  "language_info": {
   "codemirror_mode": {
    "name": "ipython",
    "version": 3
   },
   "file_extension": ".py",
   "mimetype": "text/x-python",
   "name": "python",
   "nbconvert_exporter": "python",
   "pygments_lexer": "ipython3",
   "version": "3.8.10"
  },
  "papermill": {
   "default_parameters": {},
   "duration": 0.873594,
   "end_time": "2022-04-14T06:19:17.996167",
   "environment_variables": {},
   "exception": null,
   "input_path": "make-zip.ipynb",
   "output_path": "make-zip.ipynb",
   "parameters": {},
   "start_time": "2022-04-14T06:19:17.122573",
   "version": "2.3.4"
  }
 },
 "nbformat": 4,
 "nbformat_minor": 5
}
